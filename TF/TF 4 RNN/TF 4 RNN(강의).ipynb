{
 "cells": [
  {
   "cell_type": "markdown",
   "metadata": {
    "id": "sCmtzkeGPI2Q"
   },
   "source": [
    "# Category 4\n",
    "\n",
    "RNN 을 활용한 텍스트 분류 (Text Classification)"
   ]
  },
  {
   "cell_type": "markdown",
   "metadata": {
    "id": "iRSKbgK8PRs5"
   },
   "source": [
    "## 확인"
   ]
  },
  {
   "cell_type": "markdown",
   "metadata": {
    "id": "Fc4QcKvRPSj-"
   },
   "source": [
    "1. GPU 옵션 켜져 있는지 확인할 것!!! (수정 - 노트설정 - 하드웨어설정 (GPU))"
   ]
  },
  {
   "cell_type": "code",
   "execution_count": null,
   "metadata": {
    "id": "niCvxjnT-byf"
   },
   "outputs": [],
   "source": []
  },
  {
   "cell_type": "markdown",
   "metadata": {
    "id": "JNPjnA62PXVn"
   },
   "source": [
    "## 순서"
   ]
  },
  {
   "cell_type": "markdown",
   "metadata": {
    "id": "T463L0aPPX_n"
   },
   "source": [
    "1. **import**: 필요한 모듈 import\n",
    "2. **전처리**: 학습에 필요한 데이터 전처리를 수행합니다.\n",
    "3. **모델링(model)**: 모델을 정의합니다.\n",
    "4. **컴파일(compile)**: 모델을 생성합니다.\n",
    "5. **학습 (fit)**: 모델을 학습시킵니다."
   ]
  },
  {
   "cell_type": "markdown",
   "metadata": {
    "id": "W1Hj9c1NPbPu"
   },
   "source": [
    "## 문제"
   ]
  },
  {
   "cell_type": "markdown",
   "metadata": {
    "id": "RcvEYUuhPb3f"
   },
   "source": [
    "NLP QUESTION\n",
    "\n",
    "For this task you will build a classifier for the sarcasm dataset\n",
    "The classifier should have a final layer with 1 neuron activated by sigmoid as shown.<br/><br/>\n",
    "It will be tested against a number of sentences that the network hasn't previously seen<br/>\n",
    "And you will be scored on whether sarcasm was correctly detected in those sentences\n",
    "\n",
    "\n",
    "-------------------------------\n",
    "**자연어 처리**<br/><br/>\n",
    "이 작업에서는 sarcasm 데이터 세트에 대한 분류기를 작성합니다.\n",
    "분류기는 1 개의 뉴런으로 이루어진 sigmoid 활성함수로 구성된 최종 층을 가져야합니다.<br/>\n",
    "제출될 모델은 데이터셋이 없는 여러 문장에 대해 테스트됩니다.\n",
    "그리고 당신은 그 문장에서 sarcasm 판별이 제대로 감지되었는지에 따라 점수를 받게 될 것입니다\n"
   ]
  },
  {
   "cell_type": "markdown",
   "metadata": {
    "id": "7C3ewm9XQHgr"
   },
   "source": [
    "-----------------------------------\n"
   ]
  },
  {
   "cell_type": "markdown",
   "metadata": {
    "id": "YE_gqvyN3Ato"
   },
   "source": [
    "## 필요한 모듈 import"
   ]
  },
  {
   "cell_type": "code",
   "execution_count": 1,
   "metadata": {
    "executionInfo": {
     "elapsed": 2342,
     "status": "ok",
     "timestamp": 1611299285045,
     "user": {
      "displayName": "최종찬",
      "photoUrl": "",
      "userId": "12659814370838060539"
     },
     "user_tz": -540
    },
    "id": "HKMbpxX8Ro-h"
   },
   "outputs": [],
   "source": [
    "import json\n",
    "import tensorflow as tf\n",
    "import numpy as np\n",
    "import urllib\n",
    "\n",
    "from tensorflow.keras.utils import to_categorical\n",
    "from tensorflow.keras.preprocessing.text import Tokenizer\n",
    "from tensorflow.keras.preprocessing.sequence import pad_sequences\n",
    "from tensorflow.keras.layers import Embedding, LSTM, Dense, Bidirectional, Flatten\n",
    "from tensorflow.keras.models import Sequential\n",
    "from tensorflow.keras.callbacks import ModelCheckpoint"
   ]
  },
  {
   "cell_type": "markdown",
   "metadata": {
    "id": "wEf5XJJE38vl"
   },
   "source": [
    "## 필요한 데이터 셋 다운로드"
   ]
  },
  {
   "cell_type": "code",
   "execution_count": null,
   "metadata": {
    "colab": {
     "base_uri": "https://localhost:8080/"
    },
    "executionInfo": {
     "elapsed": 2163,
     "status": "ok",
     "timestamp": 1610196506998,
     "user": {
      "displayName": "최종찬",
      "photoUrl": "",
      "userId": "12659814370838060539"
     },
     "user_tz": -540
    },
    "id": "7FLOv_TrRo-m",
    "outputId": "e2b110b1-6f3a-43c2-bcbd-7a7a72339552"
   },
   "outputs": [
    {
     "data": {
      "text/plain": [
       "('sarcasm.json', <http.client.HTTPMessage at 0x7f63486fd518>)"
      ]
     },
     "execution_count": 2,
     "metadata": {
      "tags": []
     },
     "output_type": "execute_result"
    }
   ],
   "source": [
    "url = 'https://storage.googleapis.com/download.tensorflow.org/data/sarcasm.json'\n",
    "urllib.request.urlretrieve(url, 'sarcasm.json')"
   ]
  },
  {
   "cell_type": "markdown",
   "metadata": {
    "id": "EXNFkRYERo-u"
   },
   "source": [
    "## Json 파일 로드"
   ]
  },
  {
   "cell_type": "markdown",
   "metadata": {
    "id": "5vTO4qdw5rUh"
   },
   "source": [
    "`datas` 변수에 `json`을 활용하여 로드"
   ]
  },
  {
   "cell_type": "code",
   "execution_count": null,
   "metadata": {
    "id": "yBg4ZmnKRo-v"
   },
   "outputs": [],
   "source": [
    "\n",
    "with open('sarcasm.json') as f:\n",
    "    datas = json.load(f)"
   ]
  },
  {
   "cell_type": "markdown",
   "metadata": {
    "id": "bI31En1o5p7R"
   },
   "source": [
    "`datas` 5개  출력\n",
    "\n",
    "* `article_link`: 뉴스 기사 URL\n",
    "* `headline`: 뉴스기사의 제목\n",
    "* `is_sarcastic`: 비꼬는 기사 여부 (비꼼: 1, 일반: 0)"
   ]
  },
  {
   "cell_type": "code",
   "execution_count": null,
   "metadata": {
    "colab": {
     "base_uri": "https://localhost:8080/"
    },
    "executionInfo": {
     "elapsed": 707,
     "status": "ok",
     "timestamp": 1610196512930,
     "user": {
      "displayName": "최종찬",
      "photoUrl": "",
      "userId": "12659814370838060539"
     },
     "user_tz": -540
    },
    "id": "Ylqxc8fcRo-0",
    "outputId": "dbbc6f66-cf41-4b3f-b056-cd217444308e"
   },
   "outputs": [
    {
     "data": {
      "text/plain": [
       "[{'article_link': 'https://www.huffingtonpost.com/entry/versace-black-code_us_5861fbefe4b0de3a08f600d5',\n",
       "  'headline': \"former versace store clerk sues over secret 'black code' for minority shoppers\",\n",
       "  'is_sarcastic': 0},\n",
       " {'article_link': 'https://www.huffingtonpost.com/entry/roseanne-revival-review_us_5ab3a497e4b054d118e04365',\n",
       "  'headline': \"the 'roseanne' revival catches up to our thorny political mood, for better and worse\",\n",
       "  'is_sarcastic': 0},\n",
       " {'article_link': 'https://local.theonion.com/mom-starting-to-fear-son-s-web-series-closest-thing-she-1819576697',\n",
       "  'headline': \"mom starting to fear son's web series closest thing she will have to grandchild\",\n",
       "  'is_sarcastic': 1},\n",
       " {'article_link': 'https://politics.theonion.com/boehner-just-wants-wife-to-listen-not-come-up-with-alt-1819574302',\n",
       "  'headline': 'boehner just wants wife to listen, not come up with alternative debt-reduction ideas',\n",
       "  'is_sarcastic': 1},\n",
       " {'article_link': 'https://www.huffingtonpost.com/entry/jk-rowling-wishes-snape-happy-birthday_us_569117c4e4b0cad15e64fdcb',\n",
       "  'headline': 'j.k. rowling wishes snape happy birthday in the most magical way',\n",
       "  'is_sarcastic': 0}]"
      ]
     },
     "execution_count": 4,
     "metadata": {
      "tags": []
     },
     "output_type": "execute_result"
    }
   ],
   "source": [
    "datas[:5]"
   ]
  },
  {
   "cell_type": "markdown",
   "metadata": {
    "id": "M2JA-GrVRo-4"
   },
   "source": [
    "## 전처리: 데이터셋 구성(sentences, labels)"
   ]
  },
  {
   "cell_type": "markdown",
   "metadata": {
    "id": "kes4D7Q-7r1n"
   },
   "source": [
    "* X (Feature): sentences\n",
    "* Y (Label): label"
   ]
  },
  {
   "cell_type": "markdown",
   "metadata": {
    "id": "Rrr_slKl8CMl"
   },
   "source": [
    "빈 list를 생성합니다. (sentences, labels)"
   ]
  },
  {
   "cell_type": "code",
   "execution_count": null,
   "metadata": {
    "id": "zgUxM1Rh7_-t"
   },
   "outputs": [],
   "source": [
    "sentences = []\n",
    "labels = []"
   ]
  },
  {
   "cell_type": "code",
   "execution_count": null,
   "metadata": {
    "id": "evOur3s7Ro_G"
   },
   "outputs": [],
   "source": [
    "for data in datas:\n",
    "    sentences.append(data['headline'])\n",
    "    labels.append(data['is_sarcastic'])"
   ]
  },
  {
   "cell_type": "markdown",
   "metadata": {
    "id": "ehP3G-b18Sgx"
   },
   "source": [
    "문장 5개를 출력합니다."
   ]
  },
  {
   "cell_type": "code",
   "execution_count": null,
   "metadata": {
    "colab": {
     "base_uri": "https://localhost:8080/"
    },
    "executionInfo": {
     "elapsed": 489,
     "status": "ok",
     "timestamp": 1610196515093,
     "user": {
      "displayName": "최종찬",
      "photoUrl": "",
      "userId": "12659814370838060539"
     },
     "user_tz": -540
    },
    "id": "QxkCHeN-Ro_J",
    "outputId": "9f8390e8-941b-4b2b-eb13-ceb0cc983b15"
   },
   "outputs": [
    {
     "data": {
      "text/plain": [
       "[\"former versace store clerk sues over secret 'black code' for minority shoppers\",\n",
       " \"the 'roseanne' revival catches up to our thorny political mood, for better and worse\",\n",
       " \"mom starting to fear son's web series closest thing she will have to grandchild\",\n",
       " 'boehner just wants wife to listen, not come up with alternative debt-reduction ideas',\n",
       " 'j.k. rowling wishes snape happy birthday in the most magical way']"
      ]
     },
     "execution_count": 7,
     "metadata": {
      "tags": []
     },
     "output_type": "execute_result"
    }
   ],
   "source": [
    "sentences[:5]"
   ]
  },
  {
   "cell_type": "code",
   "execution_count": null,
   "metadata": {
    "colab": {
     "base_uri": "https://localhost:8080/"
    },
    "executionInfo": {
     "elapsed": 450,
     "status": "ok",
     "timestamp": 1610196515444,
     "user": {
      "displayName": "최종찬",
      "photoUrl": "",
      "userId": "12659814370838060539"
     },
     "user_tz": -540
    },
    "id": "7AFuC-5eRo_N",
    "outputId": "4a61ca62-cbff-447d-fe00-67f8dbc86bfe"
   },
   "outputs": [
    {
     "data": {
      "text/plain": [
       "[0, 0, 1, 1, 0]"
      ]
     },
     "execution_count": 8,
     "metadata": {
      "tags": []
     },
     "output_type": "execute_result"
    }
   ],
   "source": [
    "labels[:5]"
   ]
  },
  {
   "cell_type": "markdown",
   "metadata": {
    "id": "kV-gws0ZIDT5"
   },
   "source": [
    "## Train / Validation Set 분리"
   ]
  },
  {
   "cell_type": "markdown",
   "metadata": {
    "id": "7ui0tLP38ziX"
   },
   "source": [
    "20,000개를 기준으로 **데이터셋을 분리**합니다.\n"
   ]
  },
  {
   "cell_type": "code",
   "execution_count": null,
   "metadata": {
    "id": "AP_9RTOFIDT7"
   },
   "outputs": [],
   "source": [
    "training_size = 20000"
   ]
  },
  {
   "cell_type": "code",
   "execution_count": null,
   "metadata": {
    "id": "QbKerNkAIDUC"
   },
   "outputs": [],
   "source": [
    "train_sentences = sentences[:training_size]\n",
    "train_labels = labels[:training_size]"
   ]
  },
  {
   "cell_type": "code",
   "execution_count": null,
   "metadata": {
    "id": "VUv12RFJIDUJ"
   },
   "outputs": [],
   "source": [
    "validation_sentences = sentences[training_size:]\n",
    "validation_labels = labels[training_size:]"
   ]
  },
  {
   "cell_type": "markdown",
   "metadata": {
    "id": "CEXyUrNHRo_S"
   },
   "source": [
    "## 전처리 Step 1. Tokenizer 정의"
   ]
  },
  {
   "cell_type": "markdown",
   "metadata": {
    "id": "5bgjblALRo_c"
   },
   "source": [
    "단어의 토큰화를 진행합니다.\n",
    "\n",
    "* `num_words`: 단어 max 사이즈를 지정합니다. 가장 **빈도수가 높은** 단어부터 저장합니다.\n",
    "* `oov_token`: 단어 토큰에 없는 단어를 어떻게 표기할 것인지 지정해줍니다."
   ]
  },
  {
   "cell_type": "code",
   "execution_count": null,
   "metadata": {
    "id": "CyHzPmsg9aWS"
   },
   "outputs": [],
   "source": [
    "#이 부분은 시험에서 웬만해서는 바꾸지 말자\n",
    "# oov = out of vocab token 단어사전에 없는 단어가 들어왔을때, 어떤 걸로 치환할지 정한다.\n",
    "vocab_size = 1000\n",
    "oov_tok = \"<OOV>\""
   ]
  },
  {
   "cell_type": "code",
   "execution_count": null,
   "metadata": {
    "colab": {
     "base_uri": "https://localhost:8080/"
    },
    "executionInfo": {
     "elapsed": 415,
     "status": "ok",
     "timestamp": 1610196533255,
     "user": {
      "displayName": "최종찬",
      "photoUrl": "",
      "userId": "12659814370838060539"
     },
     "user_tz": -540
    },
    "id": "ORwBwbVIRo_d",
    "outputId": "bd82edde-6848-478b-ee55-fd1bc1835ebe"
   },
   "outputs": [
    {
     "data": {
      "text/plain": [
       "<keras_preprocessing.text.Tokenizer at 0x7f63486fd908>"
      ]
     },
     "execution_count": 16,
     "metadata": {
      "tags": []
     },
     "output_type": "execute_result"
    }
   ],
   "source": [
    "tokenizer = Tokenizer(num_words=vocab_size, oov_token='<OOV>')\n",
    "Tokenizer()"
   ]
  },
  {
   "cell_type": "markdown",
   "metadata": {
    "id": "5c6Nqj8YRo_g"
   },
   "source": [
    "## 전처리 Step 2. Tokenizer로 학습시킬 문장에 대한 토큰화 진행"
   ]
  },
  {
   "cell_type": "markdown",
   "metadata": {
    "id": "oWptwIFq-B9B"
   },
   "source": [
    "`fit_on_texts`로 학습할 문장에 대하여 **토큰화**를 진행합니다."
   ]
  },
  {
   "cell_type": "code",
   "execution_count": null,
   "metadata": {
    "id": "mWZFZUFNRo_h"
   },
   "outputs": [],
   "source": [
    "tokenizer.fit_on_texts(train_sentences)"
   ]
  },
  {
   "cell_type": "code",
   "execution_count": null,
   "metadata": {
    "colab": {
     "base_uri": "https://localhost:8080/"
    },
    "executionInfo": {
     "elapsed": 569,
     "status": "ok",
     "timestamp": 1610196547308,
     "user": {
      "displayName": "최종찬",
      "photoUrl": "",
      "userId": "12659814370838060539"
     },
     "user_tz": -540
    },
    "id": "_2ZPQndyRo_k",
    "outputId": "0695fb88-b61c-41fd-bf31-d8349cdccdd9"
   },
   "outputs": [
    {
     "name": "stdout",
     "output_type": "stream",
     "text": [
      "<OOV>  \t======>\t 1\n",
      "to  \t======>\t 2\n",
      "of  \t======>\t 3\n",
      "the  \t======>\t 4\n",
      "in  \t======>\t 5\n",
      "for  \t======>\t 6\n",
      "a  \t======>\t 7\n",
      "on  \t======>\t 8\n",
      "and  \t======>\t 9\n",
      "with  \t======>\t 10\n",
      "is  \t======>\t 11\n",
      "new  \t======>\t 12\n",
      "trump  \t======>\t 13\n",
      "man  \t======>\t 14\n",
      "from  \t======>\t 15\n",
      "at  \t======>\t 16\n",
      "about  \t======>\t 17\n",
      "you  \t======>\t 18\n",
      "by  \t======>\t 19\n",
      "this  \t======>\t 20\n",
      "after  \t======>\t 21\n",
      "be  \t======>\t 22\n",
      "up  \t======>\t 23\n",
      "out  \t======>\t 24\n",
      "that  \t======>\t 25\n"
     ]
    }
   ],
   "source": [
    "for key, value in tokenizer.word_index.items():\n",
    "    print('{}  \\t======>\\t {}'.format(key, value))\n",
    "    if value == 25:\n",
    "        break"
   ]
  },
  {
   "cell_type": "markdown",
   "metadata": {
    "id": "Proj_AWp-Lsm"
   },
   "source": [
    "토큰화된 **단어 사전의 갯수**"
   ]
  },
  {
   "cell_type": "code",
   "execution_count": null,
   "metadata": {
    "colab": {
     "base_uri": "https://localhost:8080/"
    },
    "executionInfo": {
     "elapsed": 561,
     "status": "ok",
     "timestamp": 1610196559208,
     "user": {
      "displayName": "최종찬",
      "photoUrl": "",
      "userId": "12659814370838060539"
     },
     "user_tz": -540
    },
    "id": "Rufbtj6aRo_n",
    "outputId": "1293c1eb-47b2-4317-a8e7-cbbe3f256a9b"
   },
   "outputs": [
    {
     "data": {
      "text/plain": [
       "25637"
      ]
     },
     "execution_count": 19,
     "metadata": {
      "tags": []
     },
     "output_type": "execute_result"
    }
   ],
   "source": [
    "len(tokenizer.word_index)"
   ]
  },
  {
   "cell_type": "markdown",
   "metadata": {
    "id": "PFaPeh05-iZQ"
   },
   "source": [
    "단어사전은 **dictionary** 형태로 되어 있습니다. \n",
    "\n",
    "즉, 단어를 key로 입력하면 값을 return 합니다."
   ]
  },
  {
   "cell_type": "code",
   "execution_count": null,
   "metadata": {
    "id": "sxvQwbfVA_fk"
   },
   "outputs": [],
   "source": [
    "word_index = tokenizer.word_index\n"
   ]
  },
  {
   "cell_type": "code",
   "execution_count": null,
   "metadata": {
    "id": "ycALJdOZMehh"
   },
   "outputs": [],
   "source": [
    "index_word = tokenizer.index_word"
   ]
  },
  {
   "cell_type": "code",
   "execution_count": null,
   "metadata": {
    "colab": {
     "base_uri": "https://localhost:8080/",
     "height": 35
    },
    "executionInfo": {
     "elapsed": 579,
     "status": "ok",
     "timestamp": 1610196628968,
     "user": {
      "displayName": "최종찬",
      "photoUrl": "",
      "userId": "12659814370838060539"
     },
     "user_tz": -540
    },
    "id": "z6sl4qmcMhfF",
    "outputId": "e44a6db8-8cad-4939-fe00-3fd0a5c02512"
   },
   "outputs": [
    {
     "data": {
      "application/vnd.google.colaboratory.intrinsic+json": {
       "type": "string"
      },
      "text/plain": [
       "'trump'"
      ]
     },
     "execution_count": 26,
     "metadata": {
      "tags": []
     },
     "output_type": "execute_result"
    }
   ],
   "source": [
    "index_word[13]"
   ]
  },
  {
   "cell_type": "code",
   "execution_count": null,
   "metadata": {
    "colab": {
     "base_uri": "https://localhost:8080/"
    },
    "executionInfo": {
     "elapsed": 516,
     "status": "ok",
     "timestamp": 1610196618972,
     "user": {
      "displayName": "최종찬",
      "photoUrl": "",
      "userId": "12659814370838060539"
     },
     "user_tz": -540
    },
    "id": "GleJUaox-dHk",
    "outputId": "3ca4edeb-6820-4a54-80e5-9d267e30fac9"
   },
   "outputs": [
    {
     "data": {
      "text/plain": [
       "13"
      ]
     },
     "execution_count": 25,
     "metadata": {
      "tags": []
     },
     "output_type": "execute_result"
    }
   ],
   "source": [
    "word_index['trump']"
   ]
  },
  {
   "cell_type": "code",
   "execution_count": null,
   "metadata": {
    "colab": {
     "base_uri": "https://localhost:8080/"
    },
    "executionInfo": {
     "elapsed": 475,
     "status": "ok",
     "timestamp": 1610196561071,
     "user": {
      "displayName": "최종찬",
      "photoUrl": "",
      "userId": "12659814370838060539"
     },
     "user_tz": -540
    },
    "id": "W23IUjuNRo_s",
    "outputId": "bb7abe77-ebde-478c-923f-5fd20790b84b"
   },
   "outputs": [
    {
     "data": {
      "text/plain": [
       "11724"
      ]
     },
     "execution_count": 22,
     "metadata": {
      "tags": []
     },
     "output_type": "execute_result"
    }
   ],
   "source": [
    "word_index['hello']"
   ]
  },
  {
   "cell_type": "code",
   "execution_count": null,
   "metadata": {
    "colab": {
     "base_uri": "https://localhost:8080/"
    },
    "executionInfo": {
     "elapsed": 3219,
     "status": "ok",
     "timestamp": 1608615848219,
     "user": {
      "displayName": "최종찬",
      "photoUrl": "",
      "userId": "12659814370838060539"
     },
     "user_tz": -540
    },
    "id": "nMwedFRm-Y9L",
    "outputId": "52376532-4a04-4066-9d92-c2f6432d4be8"
   },
   "outputs": [
    {
     "data": {
      "text/plain": [
       "1"
      ]
     },
     "execution_count": 20,
     "metadata": {
      "tags": []
     },
     "output_type": "execute_result"
    }
   ],
   "source": [
    "word_index['<OOV>']"
   ]
  },
  {
   "cell_type": "markdown",
   "metadata": {
    "id": "ozaMIfx_Ro_4"
   },
   "source": [
    "## 전처리 Step 3. 문장(sentences)을 토큰으로 변경 (치환)"
   ]
  },
  {
   "cell_type": "markdown",
   "metadata": {
    "id": "cNqh5HgMAcKW"
   },
   "source": [
    "`texts_to_sequences`: 문장을 숫자로 **치환** 합니다. Train Set, Valid Set 모두 별도로 적용해주어야 합니다."
   ]
  },
  {
   "cell_type": "code",
   "execution_count": null,
   "metadata": {
    "id": "bYNXTtTIRo_5"
   },
   "outputs": [],
   "source": [
    "train_sequences = tokenizer.texts_to_sequences(train_sentences)\n",
    "validation_sequences = tokenizer.texts_to_sequences(validation_sentences)"
   ]
  },
  {
   "cell_type": "markdown",
   "metadata": {
    "id": "weKqGE4DAolj"
   },
   "source": [
    "**변환된 Sequences 확인**"
   ]
  },
  {
   "cell_type": "code",
   "execution_count": null,
   "metadata": {
    "colab": {
     "base_uri": "https://localhost:8080/"
    },
    "executionInfo": {
     "elapsed": 2907,
     "status": "ok",
     "timestamp": 1608615848630,
     "user": {
      "displayName": "최종찬",
      "photoUrl": "",
      "userId": "12659814370838060539"
     },
     "user_tz": -540
    },
    "id": "CKH_vITVRo_8",
    "outputId": "b9237ba7-c644-41e4-d8be-f45aa3618aa2"
   },
   "outputs": [
    {
     "data": {
      "text/plain": [
       "[[328, 1, 799, 1, 1, 47, 389, 1, 1, 6, 1, 1],\n",
       " [4, 1, 1, 1, 23, 2, 161, 1, 390, 1, 6, 251, 9, 889],\n",
       " [153, 890, 2, 891, 1, 1, 595, 1, 221, 133, 36, 45, 2, 1],\n",
       " [1, 38, 213, 382, 2, 1, 29, 288, 23, 10, 1, 1, 1, 958],\n",
       " [715, 672, 1, 1, 1, 662, 553, 5, 4, 92, 1, 90]]"
      ]
     },
     "execution_count": 22,
     "metadata": {
      "tags": []
     },
     "output_type": "execute_result"
    }
   ],
   "source": [
    "train_sequences[:5]"
   ]
  },
  {
   "cell_type": "markdown",
   "metadata": {
    "id": "LEgW25CNRpAB"
   },
   "source": [
    "변환 과정에서 '<OOV>'로 **변환된 단어** 확인"
   ]
  },
  {
   "cell_type": "markdown",
   "metadata": {
    "id": "PgP_i2wHBScf"
   },
   "source": [
    "빈도수로 지정한 `num_words`=1000 에 의거하여, 빈도수가 1000번째보다 떨어지는 단어는 자동으로 1로 치환됩니다.\n",
    "\n",
    "1은 '<OOV>' 입니다. (Out of Vocab)"
   ]
  },
  {
   "cell_type": "code",
   "execution_count": null,
   "metadata": {
    "colab": {
     "base_uri": "https://localhost:8080/",
     "height": 35
    },
    "executionInfo": {
     "elapsed": 2263,
     "status": "ok",
     "timestamp": 1608615848631,
     "user": {
      "displayName": "최종찬",
      "photoUrl": "",
      "userId": "12659814370838060539"
     },
     "user_tz": -540
    },
    "id": "Mt22rhELRpAF",
    "outputId": "d9fe70a1-e756-49de-bbb1-9f6f6d50e5a3"
   },
   "outputs": [
    {
     "data": {
      "application/vnd.google.colaboratory.intrinsic+json": {
       "type": "string"
      },
      "text/plain": [
       "'j.k. rowling wishes snape happy birthday in the most magical way'"
      ]
     },
     "execution_count": 23,
     "metadata": {
      "tags": []
     },
     "output_type": "execute_result"
    }
   ],
   "source": [
    "train_sentences[4]"
   ]
  },
  {
   "cell_type": "code",
   "execution_count": null,
   "metadata": {
    "colab": {
     "base_uri": "https://localhost:8080/"
    },
    "executionInfo": {
     "elapsed": 2027,
     "status": "ok",
     "timestamp": 1608615848632,
     "user": {
      "displayName": "최종찬",
      "photoUrl": "",
      "userId": "12659814370838060539"
     },
     "user_tz": -540
    },
    "id": "ZfwQcmvXRpAJ",
    "outputId": "fe115d3a-48be-47cb-8d90-e66273511f8b"
   },
   "outputs": [
    {
     "data": {
      "text/plain": [
       "(715, 672, 5652, 1043, 8865, 662)"
      ]
     },
     "execution_count": 24,
     "metadata": {
      "tags": []
     },
     "output_type": "execute_result"
    }
   ],
   "source": [
    "word_index['j'], word_index['k'], word_index['rowling'], word_index['wishes'], word_index['snape'], word_index['happy']"
   ]
  },
  {
   "cell_type": "code",
   "execution_count": null,
   "metadata": {
    "colab": {
     "base_uri": "https://localhost:8080/"
    },
    "executionInfo": {
     "elapsed": 1855,
     "status": "ok",
     "timestamp": 1608615848632,
     "user": {
      "displayName": "최종찬",
      "photoUrl": "",
      "userId": "12659814370838060539"
     },
     "user_tz": -540
    },
    "id": "kGYuwVXBA00V",
    "outputId": "fb8344d5-278a-4247-9507-a84b38dfbc2d"
   },
   "outputs": [
    {
     "data": {
      "text/plain": [
       "[715, 672, 1, 1, 1, 662, 553, 5, 4, 92, 1, 90]"
      ]
     },
     "execution_count": 25,
     "metadata": {
      "tags": []
     },
     "output_type": "execute_result"
    }
   ],
   "source": [
    "train_sequences[4]"
   ]
  },
  {
   "cell_type": "markdown",
   "metadata": {
    "id": "SRCwRYueRpAQ"
   },
   "source": [
    "## 전처리 Step 4. 시퀀스의 길이를 맞춰주기"
   ]
  },
  {
   "cell_type": "markdown",
   "metadata": {
    "id": "zAZyufTlRpAR"
   },
   "source": [
    "3가지 옵션을 입력해 줍니다.\n",
    "\n",
    "* `maxlen`: 최대 문장 길이를 정의합니다. 최대 문장길이보다 길면, 잘라냅니다.\n",
    "* `truncating`: 문장의 길이가 `maxlen`보다 길 때 앞을 자를지 뒤를 자를지 정의합니다.\n",
    "* `padding`: 문장의 길이가 `maxlen`보다 짧을 때 채워줄 값을 앞을 채울지, 뒤를 채울지 정의합니다."
   ]
  },
  {
   "cell_type": "code",
   "execution_count": null,
   "metadata": {
    "id": "CNH-OCTJ9hCN"
   },
   "outputs": [],
   "source": [
    "# 한 문장의 최대 단어 숫자\n",
    "max_length = 120\n",
    "\n",
    "# 잘라낼 문장의 위치\n",
    "trunc_type='post'\n",
    "\n",
    "# 채워줄 문장의 위치\n",
    "# paddig를 할 떄, 0으로 채우기 때문에 단어사전의 인덱스가 1로 시작하는 것이다. ^^\n",
    "padding_type='post'"
   ]
  },
  {
   "cell_type": "code",
   "execution_count": null,
   "metadata": {
    "id": "jdaO9ErnRpAS"
   },
   "outputs": [],
   "source": [
    "train_padded = pad_sequences(train_sequences, maxlen=max_length, truncating=trunc_type, padding=padding_type)\n",
    "validation_padded = pad_sequences(validation_sequences, maxlen=max_length, padding=padding_type, truncating=trunc_type)"
   ]
  },
  {
   "cell_type": "markdown",
   "metadata": {
    "id": "w6eVduGjBzpZ"
   },
   "source": [
    "변환된 후 shape 확인"
   ]
  },
  {
   "cell_type": "code",
   "execution_count": null,
   "metadata": {
    "colab": {
     "base_uri": "https://localhost:8080/"
    },
    "executionInfo": {
     "elapsed": 632,
     "status": "ok",
     "timestamp": 1608615848633,
     "user": {
      "displayName": "최종찬",
      "photoUrl": "",
      "userId": "12659814370838060539"
     },
     "user_tz": -540
    },
    "id": "tAudfwjTRpAV",
    "outputId": "856865f4-8e50-4667-a48e-749e12e00c35"
   },
   "outputs": [
    {
     "data": {
      "text/plain": [
       "(20000, 120)"
      ]
     },
     "execution_count": 28,
     "metadata": {
      "tags": []
     },
     "output_type": "execute_result"
    }
   ],
   "source": [
    "train_padded.shape"
   ]
  },
  {
   "cell_type": "markdown",
   "metadata": {
    "id": "_p77o7VlIDV4"
   },
   "source": [
    "## 전처리 Step 5. label 값을 numpy array로 변환"
   ]
  },
  {
   "cell_type": "markdown",
   "metadata": {
    "id": "Zk5Xv54HCEtx"
   },
   "source": [
    "model이 `list` type은 받아들이지 못하므로, numpy array로 변환합니다."
   ]
  },
  {
   "cell_type": "code",
   "execution_count": null,
   "metadata": {
    "id": "RSTya5jCIDV5"
   },
   "outputs": [],
   "source": [
    "train_labels = np.array(train_labels)\n",
    "validation_labels = np.array(validation_labels)"
   ]
  },
  {
   "cell_type": "markdown",
   "metadata": {
    "id": "GqT-hof9CNT-"
   },
   "source": [
    "-------------------------------------------------------------\n"
   ]
  },
  {
   "cell_type": "markdown",
   "metadata": {
    "id": "ZV72Y76tRpA3"
   },
   "source": [
    "## Embedding Layer"
   ]
  },
  {
   "cell_type": "markdown",
   "metadata": {
    "id": "GFGHxB6gRpA4"
   },
   "source": [
    "**고차원을 저차원으로 축소**시켜주는 역할을 합니다."
   ]
  },
  {
   "cell_type": "markdown",
   "metadata": {
    "id": "g-9HwruaRpA5"
   },
   "source": [
    "one-hot encoding을 진행했을 때, 1000차원으로 표현되는 단어들을 16차원으로 줄여주는 겁니다. 그렇게 해서 `sparsity`문제를 해소하도록 유도합니다."
   ]
  },
  {
   "cell_type": "code",
   "execution_count": null,
   "metadata": {
    "id": "iLHuZfQfDBtL"
   },
   "outputs": [],
   "source": [
    "embedding_dim = 16"
   ]
  },
  {
   "cell_type": "markdown",
   "metadata": {
    "id": "ks25QpDWCyos"
   },
   "source": [
    "**변환 전**"
   ]
  },
  {
   "cell_type": "code",
   "execution_count": null,
   "metadata": {
    "colab": {
     "base_uri": "https://localhost:8080/"
    },
    "executionInfo": {
     "elapsed": 701,
     "status": "ok",
     "timestamp": 1608615850649,
     "user": {
      "displayName": "최종찬",
      "photoUrl": "",
      "userId": "12659814370838060539"
     },
     "user_tz": -540
    },
    "id": "HElkj8fSRpA5",
    "outputId": "191f3290-714a-4479-80fc-fffd85e43faa"
   },
   "outputs": [
    {
     "data": {
      "text/plain": [
       "array([328,   1, 799,   1,   1,  47, 389,   1,   1,   6,   1,   1,   0,\n",
       "         0,   0,   0,   0,   0,   0,   0,   0,   0,   0,   0,   0,   0,\n",
       "         0,   0,   0,   0,   0,   0,   0,   0,   0,   0,   0,   0,   0,\n",
       "         0,   0,   0,   0,   0,   0,   0,   0,   0,   0,   0,   0,   0,\n",
       "         0,   0,   0,   0,   0,   0,   0,   0,   0,   0,   0,   0,   0,\n",
       "         0,   0,   0,   0,   0,   0,   0,   0,   0,   0,   0,   0,   0,\n",
       "         0,   0,   0,   0,   0,   0,   0,   0,   0,   0,   0,   0,   0,\n",
       "         0,   0,   0,   0,   0,   0,   0,   0,   0,   0,   0,   0,   0,\n",
       "         0,   0,   0,   0,   0,   0,   0,   0,   0,   0,   0,   0,   0,\n",
       "         0,   0,   0], dtype=int32)"
      ]
     },
     "execution_count": 31,
     "metadata": {
      "tags": []
     },
     "output_type": "execute_result"
    }
   ],
   "source": [
    "sample = np.array(train_padded[0])\n",
    "sample"
   ]
  },
  {
   "cell_type": "markdown",
   "metadata": {
    "id": "LG2vE6amCv7b"
   },
   "source": [
    "**변환 후**"
   ]
  },
  {
   "cell_type": "code",
   "execution_count": null,
   "metadata": {
    "colab": {
     "base_uri": "https://localhost:8080/"
    },
    "executionInfo": {
     "elapsed": 6477,
     "status": "ok",
     "timestamp": 1608615856733,
     "user": {
      "displayName": "최종찬",
      "photoUrl": "",
      "userId": "12659814370838060539"
     },
     "user_tz": -540
    },
    "id": "HJ-d2D1tRpBM",
    "outputId": "5f770fff-6bb3-40a1-9517-0079cdb70ea7"
   },
   "outputs": [
    {
     "data": {
      "text/plain": [
       "<tf.Tensor: shape=(16,), dtype=float32, numpy=\n",
       "array([-0.04621122,  0.03300002,  0.00623601,  0.02261908, -0.03764356,\n",
       "       -0.01418129,  0.0034681 , -0.01915835, -0.00697645,  0.02596125,\n",
       "       -0.03638692, -0.00863276,  0.04789945,  0.01779001, -0.04911674,\n",
       "       -0.04682612], dtype=float32)>"
      ]
     },
     "execution_count": 32,
     "metadata": {
      "tags": []
     },
     "output_type": "execute_result"
    }
   ],
   "source": [
    "x = Embedding(vocab_size, embedding_dim, input_length=max_length)\n",
    "x(sample)[0]"
   ]
  },
  {
   "cell_type": "markdown",
   "metadata": {
    "id": "ehNYMSChRpBw"
   },
   "source": [
    "## 모델 정의 (Sequential)"
   ]
  },
  {
   "cell_type": "code",
   "execution_count": null,
   "metadata": {
    "id": "Jn8t4uehIDW-"
   },
   "outputs": [],
   "source": [
    "model = Sequential([\n",
    "    Embedding(vocab_size, embedding_dim, input_length=max_length),\n",
    "    Bidirectional(LSTM(64, return_sequences=True, dropout=0.7)),\n",
    "    Bidirectional(LSTM(64,dropout=0.7)),\n",
    "    Dense(32, activation='relu'),\n",
    "    Dense(16, activation='relu'),\n",
    "    Dense(1, activation='sigmoid')\n",
    "])\n"
   ]
  },
  {
   "cell_type": "markdown",
   "metadata": {
    "id": "i6umKCF-D-U3"
   },
   "source": [
    "요약 확인"
   ]
  },
  {
   "cell_type": "code",
   "execution_count": null,
   "metadata": {
    "colab": {
     "base_uri": "https://localhost:8080/"
    },
    "executionInfo": {
     "elapsed": 1343,
     "status": "ok",
     "timestamp": 1608617385091,
     "user": {
      "displayName": "최종찬",
      "photoUrl": "",
      "userId": "12659814370838060539"
     },
     "user_tz": -540
    },
    "id": "JjmIBD7QD9FV",
    "outputId": "38ef4d2e-018d-45cf-bd3b-c7ae7caf9734"
   },
   "outputs": [
    {
     "name": "stdout",
     "output_type": "stream",
     "text": [
      "Model: \"sequential_5\"\n",
      "_________________________________________________________________\n",
      "Layer (type)                 Output Shape              Param #   \n",
      "=================================================================\n",
      "embedding_6 (Embedding)      (None, 120, 16)           16000     \n",
      "_________________________________________________________________\n",
      "bidirectional_12 (Bidirectio (None, 120, 128)          41472     \n",
      "_________________________________________________________________\n",
      "bidirectional_13 (Bidirectio (None, 128)               98816     \n",
      "_________________________________________________________________\n",
      "dense_15 (Dense)             (None, 32)                4128      \n",
      "_________________________________________________________________\n",
      "dense_16 (Dense)             (None, 16)                528       \n",
      "_________________________________________________________________\n",
      "dense_17 (Dense)             (None, 1)                 17        \n",
      "=================================================================\n",
      "Total params: 160,961\n",
      "Trainable params: 160,961\n",
      "Non-trainable params: 0\n",
      "_________________________________________________________________\n"
     ]
    }
   ],
   "source": [
    "model.summary()"
   ]
  },
  {
   "cell_type": "markdown",
   "metadata": {
    "id": "WCdAX_rXRpB0"
   },
   "source": [
    "## 컴파일 (compile)"
   ]
  },
  {
   "cell_type": "markdown",
   "metadata": {
    "id": "IpJgAudwRpB1"
   },
   "source": [
    "1. `optimizer`는 가장 최적화가 잘되는 알고리즘인 'adam'을 사용합니다.\n",
    "2. `loss`는 이진 분류이기 때문에 `binary_crossentropy`를 사용합니다."
   ]
  },
  {
   "cell_type": "code",
   "execution_count": null,
   "metadata": {
    "id": "B2iupQVBRpB1"
   },
   "outputs": [],
   "source": [
    "model.compile(optimizer='adam', loss='binary_crossentropy', metrics=['acc'])"
   ]
  },
  {
   "cell_type": "markdown",
   "metadata": {
    "id": "RajnuXcBMJDF"
   },
   "source": []
  },
  {
   "cell_type": "markdown",
   "metadata": {
    "id": "yJ0gsuoqSv7z"
   },
   "source": [
    "## ModelCheckpoint: 체크포인트 생성"
   ]
  },
  {
   "cell_type": "markdown",
   "metadata": {
    "id": "oXHmDZ2aSx4O"
   },
   "source": [
    "`val_loss` 기준으로 epoch 마다 최적의 모델을 저장하기 위하여, ModelCheckpoint를 만듭니다.\n",
    "* `checkpoint_path`는 모델이 저장될 파일 명을 설정합니다.\n",
    "* `ModelCheckpoint`을 선언하고, 적절한 옵션 값을 지정합니다."
   ]
  },
  {
   "cell_type": "code",
   "execution_count": null,
   "metadata": {
    "id": "v_AvlY0cIDXX"
   },
   "outputs": [],
   "source": [
    "checkpoint_path = 'my_checkpoint.ckpt'\n",
    "checkpoint = ModelCheckpoint(checkpoint_path, \n",
    "                             save_weights_only=True, \n",
    "                             save_best_only=True, \n",
    "                             monitor='val_loss',\n",
    "                             verbose=1)"
   ]
  },
  {
   "cell_type": "markdown",
   "metadata": {
    "id": "oKy7ZkL6RpB4"
   },
   "source": [
    "## 학습 (fit)"
   ]
  },
  {
   "cell_type": "code",
   "execution_count": null,
   "metadata": {
    "id": "lBL_WTG3Er63"
   },
   "outputs": [],
   "source": [
    "epochs=15"
   ]
  },
  {
   "cell_type": "code",
   "execution_count": null,
   "metadata": {
    "colab": {
     "base_uri": "https://localhost:8080/"
    },
    "executionInfo": {
     "elapsed": 229219,
     "status": "ok",
     "timestamp": 1608617649920,
     "user": {
      "displayName": "최종찬",
      "photoUrl": "",
      "userId": "12659814370838060539"
     },
     "user_tz": -540
    },
    "id": "byjJCmN_RpB4",
    "outputId": "2c89bb02-ec58-42d0-c739-6b18c5b1440e"
   },
   "outputs": [
    {
     "name": "stdout",
     "output_type": "stream",
     "text": [
      "Epoch 1/15\n",
      "625/625 [==============================] - 15s 24ms/step - loss: 0.3834 - acc: 0.8228 - val_loss: 0.3828 - val_acc: 0.8240\n",
      "\n",
      "Epoch 00001: val_loss improved from 0.39591 to 0.38278, saving model to my_checkpoint.ckpt\n",
      "Epoch 2/15\n",
      "625/625 [==============================] - 15s 24ms/step - loss: 0.3742 - acc: 0.8292 - val_loss: 0.4005 - val_acc: 0.8164\n",
      "\n",
      "Epoch 00002: val_loss did not improve from 0.38278\n",
      "Epoch 3/15\n",
      "625/625 [==============================] - 15s 24ms/step - loss: 0.3656 - acc: 0.8339 - val_loss: 0.3734 - val_acc: 0.8314\n",
      "\n",
      "Epoch 00003: val_loss improved from 0.38278 to 0.37341, saving model to my_checkpoint.ckpt\n",
      "Epoch 4/15\n",
      "625/625 [==============================] - 15s 24ms/step - loss: 0.3586 - acc: 0.8371 - val_loss: 0.3734 - val_acc: 0.8325\n",
      "\n",
      "Epoch 00004: val_loss did not improve from 0.37341\n",
      "Epoch 5/15\n",
      "625/625 [==============================] - 15s 25ms/step - loss: 0.3542 - acc: 0.8396 - val_loss: 0.3736 - val_acc: 0.8304\n",
      "\n",
      "Epoch 00005: val_loss did not improve from 0.37341\n",
      "Epoch 6/15\n",
      "625/625 [==============================] - 15s 24ms/step - loss: 0.3478 - acc: 0.8409 - val_loss: 0.3672 - val_acc: 0.8340\n",
      "\n",
      "Epoch 00006: val_loss improved from 0.37341 to 0.36716, saving model to my_checkpoint.ckpt\n",
      "Epoch 7/15\n",
      "625/625 [==============================] - 15s 24ms/step - loss: 0.3427 - acc: 0.8469 - val_loss: 0.3662 - val_acc: 0.8341\n",
      "\n",
      "Epoch 00007: val_loss improved from 0.36716 to 0.36622, saving model to my_checkpoint.ckpt\n",
      "Epoch 8/15\n",
      "625/625 [==============================] - 15s 24ms/step - loss: 0.3374 - acc: 0.8475 - val_loss: 0.3717 - val_acc: 0.8375\n",
      "\n",
      "Epoch 00008: val_loss did not improve from 0.36622\n",
      "Epoch 9/15\n",
      "625/625 [==============================] - 15s 24ms/step - loss: 0.3339 - acc: 0.8526 - val_loss: 0.3708 - val_acc: 0.8317\n",
      "\n",
      "Epoch 00009: val_loss did not improve from 0.36622\n",
      "Epoch 10/15\n",
      "625/625 [==============================] - 15s 24ms/step - loss: 0.3300 - acc: 0.8497 - val_loss: 0.3656 - val_acc: 0.8360\n",
      "\n",
      "Epoch 00010: val_loss improved from 0.36622 to 0.36564, saving model to my_checkpoint.ckpt\n",
      "Epoch 11/15\n",
      "625/625 [==============================] - 15s 24ms/step - loss: 0.3275 - acc: 0.8520 - val_loss: 0.3613 - val_acc: 0.8374\n",
      "\n",
      "Epoch 00011: val_loss improved from 0.36564 to 0.36129, saving model to my_checkpoint.ckpt\n",
      "Epoch 12/15\n",
      "625/625 [==============================] - 15s 25ms/step - loss: 0.3239 - acc: 0.8571 - val_loss: 0.3705 - val_acc: 0.8320\n",
      "\n",
      "Epoch 00012: val_loss did not improve from 0.36129\n",
      "Epoch 13/15\n",
      "625/625 [==============================] - 15s 24ms/step - loss: 0.3243 - acc: 0.8559 - val_loss: 0.3608 - val_acc: 0.8371\n",
      "\n",
      "Epoch 00013: val_loss improved from 0.36129 to 0.36079, saving model to my_checkpoint.ckpt\n",
      "Epoch 14/15\n",
      "625/625 [==============================] - 15s 24ms/step - loss: 0.3216 - acc: 0.8563 - val_loss: 0.3625 - val_acc: 0.8368\n",
      "\n",
      "Epoch 00014: val_loss did not improve from 0.36079\n",
      "Epoch 15/15\n",
      "625/625 [==============================] - 15s 24ms/step - loss: 0.3197 - acc: 0.8574 - val_loss: 0.3598 - val_acc: 0.8384\n",
      "\n",
      "Epoch 00015: val_loss improved from 0.36079 to 0.35978, saving model to my_checkpoint.ckpt\n"
     ]
    }
   ],
   "source": [
    "history = model.fit(train_padded, train_labels, \n",
    "                    validation_data=(validation_padded, validation_labels),\n",
    "                    callbacks=[checkpoint],\n",
    "                    epochs=epochs)"
   ]
  },
  {
   "cell_type": "markdown",
   "metadata": {
    "id": "shzhTOjAninH"
   },
   "source": [
    "## 학습 완료 후 Load Weights (ModelCheckpoint)"
   ]
  },
  {
   "cell_type": "markdown",
   "metadata": {
    "id": "kLqb_6XrMvdq"
   },
   "source": [
    "학습이 완료된 후에는 반드시 `load_weights`를 해주어야 합니다.\n",
    "\n",
    "그렇지 않으면, 열심히 ModelCheckpoint를 만든 의미가 없습니다."
   ]
  },
  {
   "cell_type": "code",
   "execution_count": null,
   "metadata": {
    "id": "4jO1ucZ9ninH"
   },
   "outputs": [],
   "source": [
    "model.load_weights(checkpoint_path)"
   ]
  },
  {
   "cell_type": "markdown",
   "metadata": {
    "id": "1t0xRupR1LmK"
   },
   "source": [
    "## 학습 오차에 대한 시각화"
   ]
  },
  {
   "cell_type": "code",
   "execution_count": null,
   "metadata": {
    "id": "wwus5OLdFg2t"
   },
   "outputs": [],
   "source": [
    "import matplotlib.pyplot as plt"
   ]
  },
  {
   "cell_type": "code",
   "execution_count": null,
   "metadata": {
    "colab": {
     "base_uri": "https://localhost:8080/",
     "height": 572
    },
    "executionInfo": {
     "elapsed": 865,
     "status": "ok",
     "timestamp": 1596118858239,
     "user": {
      "displayName": "Teddy Lee",
      "photoUrl": "https://lh3.googleusercontent.com/a-/AOh14GgfHpCqJRXzjN0fJWmWj-Z2kjBk12DfV65Woa5b=s64",
      "userId": "02735440789095269991"
     },
     "user_tz": -540
    },
    "id": "luCcz7AUE5Z3",
    "outputId": "a9fc8e03-d6d8-4c43-8210-f070d9665aff"
   },
   "outputs": [
    {
     "data": {
      "image/png": "[encoded data removed]",
      "text/plain": [
       "<Figure size 864x648 with 1 Axes>"
      ]
     },
     "metadata": {
      "needs_background": "light",
      "tags": []
     },
     "output_type": "display_data"
    }
   ],
   "source": [
    "plt.figure(figsize=(12, 9))\n",
    "plt.plot(np.arange(1, epochs+1), history.history['loss'])\n",
    "plt.plot(np.arange(1, epochs+1), history.history['val_loss'])\n",
    "plt.title('Loss / Val Loss', fontsize=20)\n",
    "plt.xlabel('Epochs')\n",
    "plt.ylabel('Loss')\n",
    "plt.legend(['loss', 'val_loss'], fontsize=15)\n",
    "plt.show()"
   ]
  },
  {
   "cell_type": "code",
   "execution_count": null,
   "metadata": {
    "colab": {
     "base_uri": "https://localhost:8080/",
     "height": 572
    },
    "executionInfo": {
     "elapsed": 1280,
     "status": "ok",
     "timestamp": 1596118858822,
     "user": {
      "displayName": "Teddy Lee",
      "photoUrl": "https://lh3.googleusercontent.com/a-/AOh14GgfHpCqJRXzjN0fJWmWj-Z2kjBk12DfV65Woa5b=s64",
      "userId": "02735440789095269991"
     },
     "user_tz": -540
    },
    "id": "W98mqIn0E8bW",
    "outputId": "3cffa5eb-7e89-4ee3-bbbb-cc726df99aa1"
   },
   "outputs": [
    {
     "data": {
      "image/png": "[encoded data removed]",
      "text/plain": [
       "<Figure size 864x648 with 1 Axes>"
      ]
     },
     "metadata": {
      "needs_background": "light",
      "tags": []
     },
     "output_type": "display_data"
    }
   ],
   "source": [
    "plt.figure(figsize=(12, 9))\n",
    "plt.plot(np.arange(1, epochs+1), history.history['acc'])\n",
    "plt.plot(np.arange(1, epochs+1), history.history['val_acc'])\n",
    "plt.title('Acc / Val Acc', fontsize=20)\n",
    "plt.xlabel('Epochs')\n",
    "plt.ylabel('Acc')\n",
    "plt.legend(['acc', 'val_acc'], fontsize=15)\n",
    "plt.show()"
   ]
  }
 ],
 "metadata": {
  "accelerator": "GPU",
  "colab": {
   "collapsed_sections": [],
   "name": "TF 4 RNN(강의)",
   "provenance": [
    {
     "file_id": "1fE4OsQ6r6A2mLQiJCmkSQVz9eguVpwYW",
     "timestamp": 1608019210406
    },
    {
     "file_id": "1WSsTxuFS33Ls1iqCu8hDQ3A-YS0-lIUH",
     "timestamp": 1596114600751
    }
   ]
  },
  "kernelspec": {
   "display_name": "Python 3",
   "language": "python",
   "name": "python3"
  },
  "language_info": {
   "codemirror_mode": {
    "name": "ipython",
    "version": 3
   },
   "file_extension": ".py",
   "mimetype": "text/x-python",
   "name": "python",
   "nbconvert_exporter": "python",
   "pygments_lexer": "ipython3",
   "version": "3.8.3"
  }
 },
 "nbformat": 4,
 "nbformat_minor": 1
}
